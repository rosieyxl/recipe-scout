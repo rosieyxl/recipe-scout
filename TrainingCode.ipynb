{
 "cells": [
  {
   "cell_type": "code",
   "execution_count": 32,
   "metadata": {
    "collapsed": true,
    "ExecuteTime": {
     "end_time": "2023-07-31T23:38:29.083570300Z",
     "start_time": "2023-07-31T23:38:29.074334600Z"
    }
   },
   "outputs": [],
   "source": [
    "# NOTE: This Jupyter Notebook was trained locally; sections of the code will not run as intended if run on Google Colab.\n",
    "\n",
    "import numpy as np\n",
    "import time\n",
    "import torch\n",
    "import torch.nn as nn\n",
    "import torch.nn.functional as F\n",
    "from torch.utils.data import random_split, Dataset, DataLoader\n",
    "import torchvision.transforms as transforms\n",
    "import matplotlib.pyplot as plt\n",
    "from torchvision import models\n",
    "\n",
    "from PIL import Image\n",
    "import pandas as pd\n",
    "import os\n",
    "import csv\n",
    "import random"
   ]
  },
  {
   "cell_type": "code",
   "execution_count": 33,
   "outputs": [],
   "source": [
    "class CustomDataset(Dataset):\n",
    "    def __init__(self, csv_file, image_folder, transform=None):\n",
    "        self.data = pd.read_csv(csv_file, skip_blank_lines=True)\n",
    "        self.image_folder = image_folder\n",
    "        self.transform = transform\n",
    "        self.image_names = self.data.iloc[:, 0].astype(str).tolist()\n",
    "\n",
    "    def __len__(self):\n",
    "        return len(self.data)\n",
    "\n",
    "    def __getitem__(self, index):\n",
    "        image_name = self.image_names[index]\n",
    "        image_path = os.path.join(self.image_folder, image_name)\n",
    "        image = Image.open(image_path).convert('RGB')\n",
    "\n",
    "        if self.transform:\n",
    "            image = self.transform(image)\n",
    "\n",
    "        label = self.data.iloc[index, 1:-1].values.astype(float)\n",
    "\n",
    "        num_classes = 20\n",
    "        label = torch.tensor(label, dtype=torch.float32)\n",
    "        one_hot = torch.zeros(num_classes, dtype=torch.float32)\n",
    "        one_hot[label == 1] = 1\n",
    "\n",
    "        return image, one_hot"
   ],
   "metadata": {
    "collapsed": false,
    "ExecuteTime": {
     "end_time": "2023-07-31T23:38:29.584181700Z",
     "start_time": "2023-07-31T23:38:29.570176Z"
    }
   }
  },
  {
   "cell_type": "code",
   "execution_count": 34,
   "outputs": [],
   "source": [
    "def get_data_loader(combined_csv_file, multi_csv_file, image_folder, batch_size=100, image_size=(224, 224), normalize=True):\n",
    "    transform_list = [transforms.Resize(image_size)]\n",
    "    if normalize:\n",
    "        transform_list.extend([\n",
    "            transforms.ToTensor(),\n",
    "            transforms.Normalize(mean=[0.485, 0.456, 0.406], std=[0.229, 0.224, 0.225])  #imagenet norm\n",
    "        ])\n",
    "    else:\n",
    "        transform_list.append(transforms.ToTensor())\n",
    "\n",
    "    transform = transforms.Compose(transform_list)\n",
    "\n",
    "    dataset = CustomDataset(csv_file=combined_csv_file, image_folder=image_folder, transform=transform)\n",
    "\n",
    "    # create the dimmed dataset\n",
    "    dim_transform = transforms.Compose([\n",
    "        transforms.Resize(image_size),\n",
    "        transforms.ColorJitter(brightness=[0.25, 0.75]),\n",
    "        transforms.ToTensor(),\n",
    "        transforms.Normalize(mean=[0.485, 0.456, 0.406], std=[0.229, 0.224, 0.225]),\n",
    "    ])\n",
    "\n",
    "    dim_set = CustomDataset(csv_file=multi_csv_file, image_folder=image_folder, transform=dim_transform)\n",
    "\n",
    "    # create the brightened dataset\n",
    "    brighten_transform = transforms.Compose([\n",
    "        transforms.Resize(image_size),\n",
    "        transforms.ColorJitter(brightness=[1.25, 1.75]),\n",
    "        transforms.ToTensor(),\n",
    "        transforms.Normalize(mean=[0.485, 0.456, 0.406], std=[0.229, 0.224, 0.225]),\n",
    "    ])\n",
    "\n",
    "    bright_set = CustomDataset(csv_file=multi_csv_file, image_folder=image_folder, transform=brighten_transform)\n",
    "\n",
    "    class RandomChoiceRotation:\n",
    "        def __init__(self):\n",
    "            self.degrees = [90, 180]\n",
    "            self.angle = None\n",
    "\n",
    "        def __call__(self, img):\n",
    "            self.angle = random.choice(self.degrees)\n",
    "            return img.rotate(self.angle)\n",
    "\n",
    "        def get_angle(self):\n",
    "            return self.angle\n",
    "\n",
    "    rotate_transform = transforms.Compose([\n",
    "        transforms.Resize(image_size),\n",
    "        RandomChoiceRotation(),\n",
    "        transforms.ToTensor(),\n",
    "        transforms.Normalize(mean=[0.485, 0.456, 0.406], std=[0.229, 0.224, 0.225]),\n",
    "    ])\n",
    "\n",
    "    rot_set = CustomDataset(csv_file=multi_csv_file, image_folder=image_folder, transform=rotate_transform)\n",
    "\n",
    "    # Combine the datasets\n",
    "    dataset = dataset + dim_set + bright_set + rot_set\n",
    "\n",
    "    train_ratio,val_ratio,test_ratio = 0.8,0.1,0.1\n",
    "\n",
    "    train_size = int(len(dataset) * train_ratio)\n",
    "    val_size = int(len(dataset) * val_ratio)\n",
    "    test_size = len(dataset) - train_size - val_size\n",
    "\n",
    "    train_set, val_set, test_set = torch.utils.data.random_split(dataset, [train_size, val_size, test_size])\n",
    "\n",
    "    print(\"Length of train_set:\", len(train_set))\n",
    "    print(\"Length of val_set:\", len(val_set))\n",
    "    print(\"Length of test_set:\", len(test_set))\n",
    "\n",
    "    train_loader = DataLoader(train_set, batch_size=batch_size, shuffle=True, num_workers=0)\n",
    "    val_loader = DataLoader(val_set, batch_size=batch_size, shuffle=True, num_workers=0)\n",
    "    test_loader = DataLoader(test_set, batch_size=batch_size, shuffle=True, num_workers=0)\n",
    "\n",
    "    print(\"Length of train_loader:\", len(train_loader))\n",
    "    print(\"Length of val_loader:\", len(val_loader))\n",
    "    print(\"Length of test_loader:\", len(test_loader))\n",
    "\n",
    "    return train_loader, val_loader, test_loader"
   ],
   "metadata": {
    "collapsed": false,
    "ExecuteTime": {
     "end_time": "2023-07-31T23:38:30.006489600Z",
     "start_time": "2023-07-31T23:38:29.991327900Z"
    }
   }
  },
  {
   "cell_type": "code",
   "execution_count": 35,
   "outputs": [],
   "source": [
    "def get_f1_score(net, data_loader, threshold=0.5): #may need to tune threshold\n",
    "    # Returns f1 score instead of accuracy since using unbalanced data set.\n",
    "    true_positives = 0\n",
    "    false_positives = 0\n",
    "    false_negatives = 0\n",
    "\n",
    "    # Preventing gradient calculation so we don't override the actual training\n",
    "    with torch.no_grad():\n",
    "        for imgs, labels in data_loader:\n",
    "            imgs = imgs.to(device)\n",
    "            labels = labels.to(device)\n",
    "            output = net(imgs)\n",
    "\n",
    "            # Apply the threshold to the predicted output probabilities\n",
    "            predicted = (output >= threshold).float()\n",
    "\n",
    "            # Perform one-hot encoding on the ground truth labels\n",
    "            labels_one_hot = torch.zeros_like(predicted)\n",
    "            labels_one_hot[labels == 1] = 1\n",
    "\n",
    "            # Calculate true positives, false positives, and false negatives\n",
    "            true_positives += ((predicted == 1) & (labels_one_hot == 1)).sum().item()\n",
    "            false_positives += ((predicted == 1) & (labels_one_hot == 0)).sum().item()\n",
    "            false_negatives += ((predicted == 0) & (labels_one_hot == 1)).sum().item()\n",
    "\n",
    "    # Addressing the edge case of model not achieving any true positives\n",
    "    if true_positives == 0:\n",
    "        precision = 0.0\n",
    "        recall = 0.0\n",
    "        f1_score = 0.0\n",
    "    else:\n",
    "        precision = true_positives / (true_positives + false_positives)\n",
    "        recall = true_positives / (true_positives + false_negatives)\n",
    "        f1_score = 2 * (precision * recall) / (precision + recall)\n",
    "\n",
    "    return f1_score"
   ],
   "metadata": {
    "collapsed": false,
    "ExecuteTime": {
     "end_time": "2023-07-31T23:38:30.739240500Z",
     "start_time": "2023-07-31T23:38:30.722963700Z"
    }
   }
  },
  {
   "cell_type": "code",
   "execution_count": 36,
   "outputs": [],
   "source": [
    "def get_model_name(name, batch_size, learning_rate, decay_rate, threshold, epoch):\n",
    "    \"\"\" Generate a name for the model consisting of all the hyperparameter values\n",
    "\n",
    "    Args:\n",
    "        name: Name of the model\n",
    "        batch_size: Batch size\n",
    "        learning_rate: Learning rate\n",
    "        epoch: Epoch number\n",
    "    Returns:\n",
    "        path: A string with the hyperparameter name and value concatenated\n",
    "    \"\"\"\n",
    "    path = \"model_{0}_bs{1}_lr{2}_dr{3}_thresh{4}_epoch{5}\".format(name, batch_size, learning_rate, decay_rate, threshold, epoch)\n",
    "\n",
    "    return path\n",
    "\n",
    "def evaluate(model, loader, criterion):\n",
    "    \"\"\" Evaluate the network on the validation set.\n",
    "\n",
    "    Args:\n",
    "        model: PyTorch neural network object\n",
    "        loader: PyTorch data loader for the validation set\n",
    "        criterion: The loss function\n",
    "    Returns:\n",
    "        loss: A scalar for the average loss function over the validation set\n",
    "    \"\"\"\n",
    "    total_loss = 0\n",
    "    i = 0\n",
    "\n",
    "    model.eval()  # Set the model to evaluation mode\n",
    "\n",
    "    with torch.no_grad():\n",
    "        for imgs, labels in loader:\n",
    "            imgs = imgs.to(device)  # Move the input tensors to the desired device\n",
    "            labels = labels.to(device)\n",
    "\n",
    "            labels = labels.float()\n",
    "            out = model(imgs)  # forward pass\n",
    "            loss = criterion(out, labels)  # compute the total loss\n",
    "            total_loss += loss.item()\n",
    "            i += 1\n",
    "\n",
    "    model.train()  # Set the model back to training mode\n",
    "\n",
    "    loss = float(total_loss) / (i + 1)\n",
    "    return loss\n",
    "\n",
    "def plot_training_curve(path):\n",
    "    \"\"\"Plots the training curve for a model run, given the csv files\n",
    "    containing the train/validation accuracy.\n",
    "\n",
    "    Args:\n",
    "        path: The base path of the csv files produced during training\n",
    "    \"\"\"\n",
    "    train_acc = np.loadtxt(\"{}_train_acc.csv\".format(path), delimiter=',')  # Specify delimiter as ','\n",
    "    val_acc = np.loadtxt(\"{}_val_acc.csv\".format(path), delimiter=',')  # Specify delimiter as ','\n",
    "\n",
    "    plt.title(\"Train vs Validation Accuracy\")\n",
    "    n = len(train_acc)  # number of epochs\n",
    "    plt.plot(range(1, n + 1), train_acc, label=\"Train\")\n",
    "    plt.plot(range(1, n + 1), val_acc, label=\"Validation\")\n",
    "    plt.xlabel(\"Epoch\")\n",
    "    plt.ylabel(\"Accuracy\")\n",
    "    plt.legend(loc='best')\n",
    "    plt.show()"
   ],
   "metadata": {
    "collapsed": false,
    "ExecuteTime": {
     "end_time": "2023-07-31T23:38:31.390172500Z",
     "start_time": "2023-07-31T23:38:31.374125200Z"
    }
   }
  },
  {
   "cell_type": "code",
   "execution_count": 37,
   "outputs": [],
   "source": [
    "def train(model, combined_csv_file, multi_csv_file, image_folder, batch_size=100, num_epochs=5, learning_rate=1e-3, decay_rate=0.9, threshold=0.5):\n",
    "    torch.manual_seed(1000)\n",
    "    criterion = nn.BCELoss()\n",
    "    optimizer = torch.optim.Adam(model.parameters(), lr=learning_rate)\n",
    "\n",
    "    train_loader, val_loader, test_loader = get_data_loader(combined_csv_file=combined_csv_file, multi_csv_file=multi_csv_file, image_folder=image_folder, batch_size=batch_size, image_size=(224,224), normalize=True)\n",
    "\n",
    "    # Sending data to GPU\n",
    "    device = torch.device(\"cuda\" if torch.cuda.is_available() else \"cpu\")\n",
    "    model.to(device)\n",
    "\n",
    "    train_acc, val_acc, train_loss, val_loss = [], [], [], []\n",
    "\n",
    "    start_time = time.time()\n",
    "    for epoch in range(num_epochs):\n",
    "        total_train_loss = 0.0\n",
    "        i = 0\n",
    "\n",
    "        # Learning rate decay calculation\n",
    "        current_learning_rate = learning_rate / (1 + decay_rate * epoch)\n",
    "\n",
    "        # Update optimizer learning rate\n",
    "        for param_group in optimizer.param_groups:\n",
    "            param_group['lr'] = current_learning_rate\n",
    "\n",
    "        for imgs, labels in train_loader:\n",
    "            labels = labels.float()\n",
    "            if torch.cuda.is_available():\n",
    "                imgs = imgs.cuda().to(device)\n",
    "                labels = labels.cuda().to(device)\n",
    "\n",
    "            optimizer.zero_grad()\n",
    "\n",
    "            out = model(imgs)\n",
    "            loss = criterion(out, labels)\n",
    "\n",
    "            loss.backward()\n",
    "            optimizer.step()\n",
    "            optimizer.zero_grad()\n",
    "\n",
    "            i += 1\n",
    "\n",
    "        total_train_loss += loss.item()\n",
    "\n",
    "        train_epoch_acc = get_f1_score(model, train_loader, threshold=threshold)\n",
    "        train_acc.append(train_epoch_acc)\n",
    "\n",
    "        val_epoch_acc = get_f1_score(model, val_loader, threshold=threshold)\n",
    "        val_acc.append(val_epoch_acc)\n",
    "\n",
    "        train_loss.append(total_train_loss / (i + 1))\n",
    "        val_loss.append(evaluate(model, val_loader, criterion))\n",
    "\n",
    "        try:\n",
    "            print((\"Epoch {}: Train Acc: {:.4f}, Train Loss: {:.4f} | \" +\n",
    "                   \"Validation Acc: {:.4f}, Validation Loss: {:.4f}\").format(\n",
    "                epoch + 1,\n",
    "                train_acc[epoch],\n",
    "                train_loss[epoch],\n",
    "                val_acc[epoch],\n",
    "                val_loss[epoch]))\n",
    "        except Exception as e:\n",
    "            print(\"An error occurred during printing:\", e)\n",
    "\n",
    "        if (epoch % 5) == 4 or epoch == 0:\n",
    "            model_path = get_model_name(model.module.name, batch_size, learning_rate, decay_rate, threshold, epoch)\n",
    "            torch.save(model.state_dict(), model_path)\n",
    "\n",
    "    print('Finished Training')\n",
    "    end_time = time.time()\n",
    "    elapsed_time = end_time - start_time\n",
    "    print(\"Total time elapsed: {:.2f} seconds\".format(elapsed_time))\n",
    "\n",
    "    try:\n",
    "        with open(\"{}_train_acc.csv\".format(model_path), \"w\", newline=\"\") as f_train_acc:\n",
    "            writer_train_acc = csv.writer(f_train_acc)\n",
    "            writer_train_acc.writerow(train_acc)\n",
    "\n",
    "        with open(\"{}_val_acc.csv\".format(model_path), \"w\", newline=\"\") as f_val_acc:\n",
    "            writer_val_acc = csv.writer(f_val_acc)\n",
    "            writer_val_acc.writerow(val_acc)\n",
    "    except Exception as e:\n",
    "        print(\"An error occurred while saving the results:\", e)\n",
    "\n",
    "    return test_loader"
   ],
   "metadata": {
    "collapsed": false,
    "ExecuteTime": {
     "end_time": "2023-07-31T23:38:32.393832300Z",
     "start_time": "2023-07-31T23:38:32.374502400Z"
    }
   }
  },
  {
   "cell_type": "code",
   "execution_count": 38,
   "outputs": [],
   "source": [
    "class BaselinePigeon(nn.Module):\n",
    "    def __init__(self, num_classes):\n",
    "        super(BaselinePigeon, self).__init__()\n",
    "        self.name = \"baselinepigeonclassifier\"\n",
    "        self.layer1 = nn.Linear(3 * 224 * 224, 120)\n",
    "        self.layer2 = nn.Linear(120, 60)\n",
    "        self.layer3 = nn.Linear(60, num_classes)\n",
    "        self.sigmoid = nn.Sigmoid() # Used for binary classification\n",
    "\n",
    "    def forward(self, x):\n",
    "        x = x.view(x.size(0), -1)  # Flatten the input tensor\n",
    "        x = self.layer1(x)\n",
    "        x = F.relu(x)\n",
    "        x = self.layer2(x)\n",
    "        x = F.relu(x)\n",
    "        x = self.layer3(x)\n",
    "        x = self.sigmoid(x)\n",
    "        return x"
   ],
   "metadata": {
    "collapsed": false,
    "ExecuteTime": {
     "end_time": "2023-07-31T23:38:33.107368100Z",
     "start_time": "2023-07-31T23:38:33.100369900Z"
    }
   }
  },
  {
   "cell_type": "code",
   "execution_count": 39,
   "outputs": [],
   "source": [
    "class DenseNetMultiLabel(nn.Module):\n",
    "    def __init__(self, num_classes):\n",
    "        super(DenseNetMultiLabel, self).__init__()\n",
    "        self.name = \"densenetclassifier\"\n",
    "        self.densenet = models.densenet121(pretrained=True)\n",
    "        num_features = self.densenet.classifier.in_features\n",
    "        # Attaching our classifier to the pretrained model\n",
    "        self.densenet.classifier = nn.Linear(num_features, num_classes)\n",
    "        self.sigmoid = nn.Sigmoid()\n",
    "\n",
    "    def forward(self, x):\n",
    "        x = self.densenet(x)\n",
    "        x = self.sigmoid(x)\n",
    "        return x"
   ],
   "metadata": {
    "collapsed": false,
    "ExecuteTime": {
     "end_time": "2023-07-31T23:38:33.650051900Z",
     "start_time": "2023-07-31T23:38:33.641972700Z"
    }
   }
  },
  {
   "cell_type": "code",
   "execution_count": 40,
   "outputs": [],
   "source": [
    "class ResNetMultiLabel(nn.Module):\n",
    "    def __init__(self, num_classes):\n",
    "        super(ResNetMultiLabel, self).__init__()\n",
    "        self.num_classes = num_classes\n",
    "        self.name = \"resnetclassifier\"\n",
    "\n",
    "        # Load the pre-trained ResNet model\n",
    "        resnet = models.resnet50(pretrained=True)\n",
    "\n",
    "        # Replace the last fully connected layer\n",
    "        num_features = resnet.fc.in_features\n",
    "        self.features = nn.Sequential(*list(resnet.children())[:-1])\n",
    "        self.classifier = nn.Sequential(\n",
    "            nn.Linear(num_features, num_classes),\n",
    "            nn.Sigmoid()  # Use sigmoid activation for multi-label classification\n",
    "        )\n",
    "\n",
    "    def forward(self, x):\n",
    "        x = self.features(x)\n",
    "        x = x.view(x.size(0), -1)\n",
    "        x = self.classifier(x)\n",
    "        return x"
   ],
   "metadata": {
    "collapsed": false,
    "ExecuteTime": {
     "end_time": "2023-07-31T23:38:37.326435300Z",
     "start_time": "2023-07-31T23:38:37.307331400Z"
    }
   }
  },
  {
   "cell_type": "code",
   "execution_count": 41,
   "outputs": [],
   "source": [
    "num_classes = 20\n",
    "combined_csv_file = r\"C:\\Users\\ricky\\PycharmProjects\\aps360\\Dataset Label - Sheet3 Combined.csv\"\n",
    "multi_csv_file = r\"C:\\Users\\ricky\\PycharmProjects\\aps360\\Dataset Label - Sheet1 Updated.csv\"\n",
    "single_csv_file = r\"C:\\Users\\ricky\\PycharmProjects\\aps360\\Dataset Label - Sheet2.csv\"\n",
    "image_folder = r\"C:\\Users\\ricky\\PycharmProjects\\aps360\\Combined Fruit Dataset\""
   ],
   "metadata": {
    "collapsed": false,
    "ExecuteTime": {
     "end_time": "2023-07-31T23:38:40.314332700Z",
     "start_time": "2023-07-31T23:38:40.311334400Z"
    }
   }
  },
  {
   "cell_type": "code",
   "execution_count": 42,
   "outputs": [
    {
     "name": "stdout",
     "output_type": "stream",
     "text": [
      "CUDA is available! Training on GPU...\n",
      "Length of train_set: 4800\n",
      "Length of val_set: 600\n",
      "Length of test_set: 600\n",
      "Length of train_loader: 32\n",
      "Length of val_loader: 4\n",
      "Length of test_loader: 4\n"
     ]
    },
    {
     "name": "stderr",
     "output_type": "stream",
     "text": [
      "C:\\Users\\ricky\\anaconda3\\envs\\aps360\\lib\\site-packages\\PIL\\Image.py:961: UserWarning: Palette images with Transparency expressed in bytes should be converted to RGBA images\n",
      "  \"Palette images with Transparency expressed in bytes should be \"\n"
     ]
    },
    {
     "name": "stdout",
     "output_type": "stream",
     "text": [
      "Epoch 1: Train Acc: 0.2689, Train Loss: 0.0395 | Validation Acc: 0.2148, Validation Loss: 1.0358\n",
      "Epoch 2: Train Acc: 0.3045, Train Loss: 0.0249 | Validation Acc: 0.2106, Validation Loss: 0.6609\n",
      "Epoch 3: Train Acc: 0.3303, Train Loss: 0.0175 | Validation Acc: 0.2199, Validation Loss: 0.5042\n",
      "Epoch 4: Train Acc: 0.3344, Train Loss: 0.0164 | Validation Acc: 0.2027, Validation Loss: 0.4481\n",
      "Epoch 5: Train Acc: 0.3902, Train Loss: 0.0142 | Validation Acc: 0.2220, Validation Loss: 0.4330\n",
      "Epoch 6: Train Acc: 0.4163, Train Loss: 0.0136 | Validation Acc: 0.2346, Validation Loss: 0.4157\n",
      "Epoch 7: Train Acc: 0.4421, Train Loss: 0.0115 | Validation Acc: 0.2331, Validation Loss: 0.4074\n",
      "Epoch 8: Train Acc: 0.4290, Train Loss: 0.0107 | Validation Acc: 0.2221, Validation Loss: 0.3938\n",
      "Epoch 9: Train Acc: 0.4360, Train Loss: 0.0111 | Validation Acc: 0.2144, Validation Loss: 0.3880\n",
      "Epoch 10: Train Acc: 0.4531, Train Loss: 0.0112 | Validation Acc: 0.2310, Validation Loss: 0.3774\n",
      "Finished Training\n",
      "Total time elapsed: 13983.26 seconds\n"
     ]
    }
   ],
   "source": [
    "use_cuda = True\n",
    "baselinepigeonclassifier = BaselinePigeon(num_classes)\n",
    "\n",
    "if use_cuda and torch.cuda.is_available():\n",
    "    device = torch.device(\"cuda\")\n",
    "    baselinepigeonclassifier.cuda()\n",
    "    print('CUDA is available! Training on GPU...')\n",
    "else:\n",
    "    device = torch.device(\"cpu\")\n",
    "    print('CUDA is not available. Training on CPU...')\n",
    "\n",
    "baselinepigeonclassifier.to(device)  # Move the model to the desired device\n",
    "baselinepigeonclassifier = nn.DataParallel(baselinepigeonclassifier)\n",
    "\n",
    "torch.cuda.empty_cache()\n",
    "baselinemodel_testloader1 = train(baselinepigeonclassifier, combined_csv_file, multi_csv_file, image_folder, batch_size=150, num_epochs=10, learning_rate=1e-3, decay_rate=0.9, threshold=0.5)"
   ],
   "metadata": {
    "collapsed": false,
    "ExecuteTime": {
     "end_time": "2023-08-01T03:32:06.661634200Z",
     "start_time": "2023-07-31T23:39:02.933019100Z"
    }
   }
  },
  {
   "cell_type": "code",
   "execution_count": 43,
   "outputs": [
    {
     "data": {
      "text/plain": "<Figure size 432x288 with 1 Axes>",
      "image/png": "[encoded data removed]"
     },
     "metadata": {
      "needs_background": "light"
     },
     "output_type": "display_data"
    }
   ],
   "source": [
    "path_to_baselinemodel = get_model_name(\"baselinepigeonclassifier\",batch_size=150,learning_rate=1e-3, decay_rate=0.9, threshold=0.5, epoch=9)\n",
    "plot_training_curve(path_to_baselinemodel)"
   ],
   "metadata": {
    "collapsed": false,
    "ExecuteTime": {
     "end_time": "2023-08-01T03:32:06.818684900Z",
     "start_time": "2023-08-01T03:32:06.665642100Z"
    }
   }
  },
  {
   "cell_type": "code",
   "execution_count": 44,
   "outputs": [
    {
     "name": "stdout",
     "output_type": "stream",
     "text": [
      "0.23330887747615553\n"
     ]
    }
   ],
   "source": [
    "test_acc_baselinemodel = get_f1_score(baselinepigeonclassifier, baselinemodel_testloader1, threshold=0.5)\n",
    "print(test_acc_baselinemodel)"
   ],
   "metadata": {
    "collapsed": false,
    "ExecuteTime": {
     "end_time": "2023-08-01T03:33:29.316151900Z",
     "start_time": "2023-08-01T03:32:06.819676300Z"
    }
   }
  },
  {
   "cell_type": "code",
   "execution_count": 48,
   "outputs": [
    {
     "name": "stdout",
     "output_type": "stream",
     "text": [
      "CUDA is available! Training on GPU...\n",
      "Length of train_set: 4800\n",
      "Length of val_set: 600\n",
      "Length of test_set: 600\n",
      "Length of train_loader: 32\n",
      "Length of val_loader: 4\n",
      "Length of test_loader: 4\n",
      "Epoch 1: Train Acc: 0.4357, Train Loss: 0.0085 | Validation Acc: 0.4468, Validation Loss: 0.1761\n",
      "Epoch 2: Train Acc: 0.6484, Train Loss: 0.0048 | Validation Acc: 0.6019, Validation Loss: 0.1344\n",
      "Epoch 3: Train Acc: 0.7590, Train Loss: 0.0035 | Validation Acc: 0.6843, Validation Loss: 0.1033\n",
      "Epoch 4: Train Acc: 0.8574, Train Loss: 0.0028 | Validation Acc: 0.7751, Validation Loss: 0.0840\n",
      "Epoch 5: Train Acc: 0.9085, Train Loss: 0.0023 | Validation Acc: 0.8200, Validation Loss: 0.0693\n",
      "Epoch 6: Train Acc: 0.9404, Train Loss: 0.0015 | Validation Acc: 0.8652, Validation Loss: 0.0615\n",
      "Epoch 7: Train Acc: 0.9637, Train Loss: 0.0010 | Validation Acc: 0.8750, Validation Loss: 0.0553\n",
      "Epoch 8: Train Acc: 0.9760, Train Loss: 0.0009 | Validation Acc: 0.8955, Validation Loss: 0.0517\n",
      "Epoch 9: Train Acc: 0.9829, Train Loss: 0.0007 | Validation Acc: 0.9038, Validation Loss: 0.0498\n",
      "Epoch 10: Train Acc: 0.9865, Train Loss: 0.0006 | Validation Acc: 0.9041, Validation Loss: 0.0487\n",
      "Finished Training\n",
      "Total time elapsed: 28507.21 seconds\n"
     ]
    },
    {
     "data": {
      "text/plain": "<Figure size 432x288 with 1 Axes>",
      "image/png": "[encoded data removed]"
     },
     "metadata": {
      "needs_background": "light"
     },
     "output_type": "display_data"
    },
    {
     "name": "stdout",
     "output_type": "stream",
     "text": [
      "The final test accuracy of our model is: 88.11963445029079 %\n"
     ]
    }
   ],
   "source": [
    "use_cuda = True\n",
    "densenetclassifier = DenseNetMultiLabel(num_classes)\n",
    "\n",
    "if use_cuda and torch.cuda.is_available():\n",
    "    device = torch.device(\"cuda\")\n",
    "    densenetclassifier.cuda()\n",
    "    print('CUDA is available! Training on GPU...')\n",
    "else:\n",
    "    device = torch.device(\"cpu\")\n",
    "    print('CUDA is not available. Training on CPU...')\n",
    "\n",
    "densenetclassifier.to(device)  # Move the model to the desired device\n",
    "densenetclassifier = nn.DataParallel(densenetclassifier)\n",
    "\n",
    "torch.cuda.empty_cache()\n",
    "densenet_testloader2 = train(densenetclassifier, combined_csv_file, multi_csv_file, image_folder, batch_size=150, num_epochs=10, learning_rate=1e-3, decay_rate=0.9, threshold=0.75)\n",
    "\n",
    "path_to_densenet2 = get_model_name(\"densenetclassifier\",batch_size=150,learning_rate=1e-3, decay_rate=0.9, threshold=0.75, epoch=9)\n",
    "plot_training_curve(path_to_densenet2)\n",
    "\n",
    "test_accuracy = get_f1_score(densenetclassifier, densenet_testloader2, threshold=0.75)\n",
    "print(\"The final test accuracy of our model is:\", test_accuracy*100,\"%\")"
   ],
   "metadata": {
    "collapsed": false,
    "ExecuteTime": {
     "end_time": "2023-08-01T13:59:55.339661Z",
     "start_time": "2023-08-01T06:02:44.071013200Z"
    }
   }
  },
  {
   "cell_type": "code",
   "execution_count": 49,
   "outputs": [
    {
     "name": "stdout",
     "output_type": "stream",
     "text": [
      "CUDA is available! Training on GPU...\n",
      "Length of train_set: 4800\n",
      "Length of val_set: 600\n",
      "Length of test_set: 600\n",
      "Length of train_loader: 32\n",
      "Length of val_loader: 4\n",
      "Length of test_loader: 4\n"
     ]
    },
    {
     "name": "stderr",
     "output_type": "stream",
     "text": [
      "C:\\Users\\ricky\\anaconda3\\envs\\aps360\\lib\\site-packages\\PIL\\Image.py:961: UserWarning: Palette images with Transparency expressed in bytes should be converted to RGBA images\n",
      "  \"Palette images with Transparency expressed in bytes should be \"\n"
     ]
    },
    {
     "name": "stdout",
     "output_type": "stream",
     "text": [
      "Epoch 1: Train Acc: 0.5784, Train Loss: 0.0094 | Validation Acc: 0.5712, Validation Loss: 0.1989\n",
      "Epoch 2: Train Acc: 0.7334, Train Loss: 0.0061 | Validation Acc: 0.6925, Validation Loss: 0.1619\n",
      "Epoch 3: Train Acc: 0.8101, Train Loss: 0.0045 | Validation Acc: 0.7475, Validation Loss: 0.1303\n",
      "Epoch 4: Train Acc: 0.8962, Train Loss: 0.0037 | Validation Acc: 0.8269, Validation Loss: 0.1036\n",
      "Epoch 5: Train Acc: 0.9398, Train Loss: 0.0029 | Validation Acc: 0.8636, Validation Loss: 0.0833\n",
      "Epoch 6: Train Acc: 0.9683, Train Loss: 0.0018 | Validation Acc: 0.8965, Validation Loss: 0.0673\n",
      "Epoch 7: Train Acc: 0.9834, Train Loss: 0.0010 | Validation Acc: 0.9096, Validation Loss: 0.0608\n",
      "Epoch 8: Train Acc: 0.9905, Train Loss: 0.0010 | Validation Acc: 0.9185, Validation Loss: 0.0542\n",
      "Epoch 9: Train Acc: 0.9935, Train Loss: 0.0007 | Validation Acc: 0.9329, Validation Loss: 0.0496\n",
      "Epoch 10: Train Acc: 0.9952, Train Loss: 0.0006 | Validation Acc: 0.9347, Validation Loss: 0.0470\n",
      "Finished Training\n",
      "Total time elapsed: 29053.47 seconds\n"
     ]
    },
    {
     "data": {
      "text/plain": "<Figure size 432x288 with 1 Axes>",
      "image/png": "[encoded data removed]"
     },
     "metadata": {
      "needs_background": "light"
     },
     "output_type": "display_data"
    },
    {
     "name": "stdout",
     "output_type": "stream",
     "text": [
      "The final test accuracy of our model is: 90.6258114775383 %\n"
     ]
    }
   ],
   "source": [
    "use_cuda = True\n",
    "densenetclassifier = DenseNetMultiLabel(num_classes)\n",
    "\n",
    "if use_cuda and torch.cuda.is_available():\n",
    "    device = torch.device(\"cuda\")\n",
    "    densenetclassifier.cuda()\n",
    "    print('CUDA is available! Training on GPU...')\n",
    "else:\n",
    "    device = torch.device(\"cpu\")\n",
    "    print('CUDA is not available. Training on CPU...')\n",
    "\n",
    "densenetclassifier.to(device)  # Move the model to the desired device\n",
    "densenetclassifier = nn.DataParallel(densenetclassifier)\n",
    "\n",
    "torch.cuda.empty_cache()\n",
    "densenet_testloader3 = train(densenetclassifier, combined_csv_file, multi_csv_file, image_folder, batch_size=150, num_epochs=10, learning_rate=2e-3, decay_rate=1, threshold=0.5)\n",
    "\n",
    "path_to_densenet3 = get_model_name(\"densenetclassifier\",batch_size=150,learning_rate=2e-3, decay_rate=1, threshold=0.5, epoch=9)\n",
    "plot_training_curve(path_to_densenet3)\n",
    "\n",
    "test_accuracy3 = get_f1_score(densenetclassifier, densenet_testloader3, threshold=0.5)\n",
    "print(\"The final test accuracy of our model is:\", test_accuracy3*100,\"%\")"
   ],
   "metadata": {
    "collapsed": false,
    "ExecuteTime": {
     "end_time": "2023-08-01T23:57:27.849857800Z",
     "start_time": "2023-08-01T15:51:11.238474600Z"
    }
   }
  },
  {
   "cell_type": "code",
   "execution_count": 11,
   "outputs": [
    {
     "name": "stdout",
     "output_type": "stream",
     "text": [
      "CUDA is available! Training on GPU...\n",
      "Length of train_set: 4800\n",
      "Length of val_set: 600\n",
      "Length of test_set: 600\n",
      "Length of train_loader: 32\n",
      "Length of val_loader: 4\n",
      "Length of test_loader: 4\n"
     ]
    },
    {
     "name": "stderr",
     "output_type": "stream",
     "text": [
      "C:\\Users\\ricky\\anaconda3\\envs\\aps360\\lib\\site-packages\\PIL\\Image.py:961: UserWarning: Palette images with Transparency expressed in bytes should be converted to RGBA images\n",
      "  \"Palette images with Transparency expressed in bytes should be \"\n"
     ]
    },
    {
     "name": "stdout",
     "output_type": "stream",
     "text": [
      "Epoch 1: Train Acc: 0.6730, Train Loss: 0.0084 | Validation Acc: 0.6603, Validation Loss: 0.1785\n",
      "Epoch 2: Train Acc: 0.8117, Train Loss: 0.0051 | Validation Acc: 0.7555, Validation Loss: 0.1349\n",
      "Epoch 3: Train Acc: 0.8911, Train Loss: 0.0036 | Validation Acc: 0.8151, Validation Loss: 0.1043\n",
      "Epoch 4: Train Acc: 0.9506, Train Loss: 0.0028 | Validation Acc: 0.8794, Validation Loss: 0.0828\n",
      "Epoch 5: Train Acc: 0.9716, Train Loss: 0.0022 | Validation Acc: 0.9092, Validation Loss: 0.0700\n",
      "Epoch 6: Train Acc: 0.9843, Train Loss: 0.0015 | Validation Acc: 0.9179, Validation Loss: 0.0619\n",
      "Epoch 7: Train Acc: 0.9917, Train Loss: 0.0009 | Validation Acc: 0.9308, Validation Loss: 0.0566\n",
      "Epoch 8: Train Acc: 0.9947, Train Loss: 0.0009 | Validation Acc: 0.9361, Validation Loss: 0.0524\n",
      "Epoch 9: Train Acc: 0.9967, Train Loss: 0.0007 | Validation Acc: 0.9369, Validation Loss: 0.0488\n",
      "Epoch 10: Train Acc: 0.9972, Train Loss: 0.0006 | Validation Acc: 0.9331, Validation Loss: 0.0479\n",
      "Finished Training\n",
      "Total time elapsed: 36565.36 seconds\n"
     ]
    }
   ],
   "source": [
    "use_cuda = True\n",
    "densenetclassifier = DenseNetMultiLabel(num_classes)\n",
    "\n",
    "if use_cuda and torch.cuda.is_available():\n",
    "    device = torch.device(\"cuda\")\n",
    "    densenetclassifier.cuda()\n",
    "    print('CUDA is available! Training on GPU...')\n",
    "else:\n",
    "    device = torch.device(\"cpu\")\n",
    "    print('CUDA is not available. Training on CPU...')\n",
    "\n",
    "densenetclassifier.to(device)  # Move the model to the desired device\n",
    "densenetclassifier = nn.DataParallel(densenetclassifier)\n",
    "\n",
    "torch.cuda.empty_cache()\n",
    "densenet_testloader1 = train(densenetclassifier, combined_csv_file, multi_csv_file, image_folder, batch_size=150, num_epochs=10, learning_rate=1e-3, decay_rate=0.9, threshold=0.5)"
   ],
   "metadata": {
    "collapsed": false,
    "ExecuteTime": {
     "end_time": "2023-07-27T10:56:41.653085700Z",
     "start_time": "2023-07-27T00:47:14.390984Z"
    }
   }
  },
  {
   "cell_type": "code",
   "execution_count": 12,
   "outputs": [
    {
     "data": {
      "text/plain": "<Figure size 432x288 with 1 Axes>",
      "image/png": "[encoded data removed]"
     },
     "metadata": {
      "needs_background": "light"
     },
     "output_type": "display_data"
    }
   ],
   "source": [
    "path_to_densenet = get_model_name(\"densenetclassifier\",batch_size=150,learning_rate=1e-3, decay_rate=0.9, threshold=0.5, epoch=9)\n",
    "plot_training_curve(path_to_densenet)"
   ],
   "metadata": {
    "collapsed": false,
    "ExecuteTime": {
     "end_time": "2023-07-27T10:56:41.838824900Z",
     "start_time": "2023-07-27T10:56:41.663088200Z"
    }
   }
  },
  {
   "cell_type": "code",
   "execution_count": null,
   "outputs": [
    {
     "name": "stdout",
     "output_type": "stream",
     "text": [
      "CUDA is available! Training on GPU...\n",
      "Length of train_set: 4800\n",
      "Length of val_set: 600\n",
      "Length of test_set: 600\n",
      "Length of train_loader: 32\n",
      "Length of val_loader: 4\n",
      "Length of test_loader: 4\n"
     ]
    },
    {
     "name": "stderr",
     "output_type": "stream",
     "text": [
      "C:\\Users\\ricky\\anaconda3\\envs\\aps360\\lib\\site-packages\\PIL\\Image.py:961: UserWarning: Palette images with Transparency expressed in bytes should be converted to RGBA images\n",
      "  \"Palette images with Transparency expressed in bytes should be \"\n"
     ]
    },
    {
     "name": "stdout",
     "output_type": "stream",
     "text": [
      "Epoch 1: Train Acc: 0.6329, Train Loss: 0.0091 | Validation Acc: 0.6207, Validation Loss: 0.1921\n",
      "Epoch 2: Train Acc: 0.7762, Train Loss: 0.0056 | Validation Acc: 0.7211, Validation Loss: 0.1452\n",
      "Epoch 3: Train Acc: 0.8650, Train Loss: 0.0037 | Validation Acc: 0.7809, Validation Loss: 0.1156\n",
      "Epoch 4: Train Acc: 0.9312, Train Loss: 0.0029 | Validation Acc: 0.8541, Validation Loss: 0.0893\n",
      "Epoch 5: Train Acc: 0.9622, Train Loss: 0.0021 | Validation Acc: 0.8869, Validation Loss: 0.0721\n",
      "Epoch 6: Train Acc: 0.9799, Train Loss: 0.0012 | Validation Acc: 0.9089, Validation Loss: 0.0622\n",
      "Epoch 7: Train Acc: 0.9894, Train Loss: 0.0006 | Validation Acc: 0.9141, Validation Loss: 0.0560\n",
      "Epoch 8: Train Acc: 0.9939, Train Loss: 0.0007 | Validation Acc: 0.9279, Validation Loss: 0.0517\n",
      "Epoch 9: Train Acc: 0.9959, Train Loss: 0.0004 | Validation Acc: 0.9295, Validation Loss: 0.0477\n"
     ]
    }
   ],
   "source": [
    "use_cuda = True\n",
    "resnetclassifier = ResNetMultiLabel(num_classes)\n",
    "\n",
    "if use_cuda and torch.cuda.is_available():\n",
    "    device = torch.device(\"cuda\")\n",
    "    resnetclassifier.cuda()\n",
    "    print('CUDA is available! Training on GPU...')\n",
    "else:\n",
    "    device = torch.device(\"cpu\")\n",
    "    print('CUDA is not available. Training on CPU...')\n",
    "\n",
    "resnetclassifier.to(device)  # Move the model to the desired device\n",
    "resnetclassifier = nn.DataParallel(resnetclassifier)\n",
    "\n",
    "torch.cuda.empty_cache()\n",
    "resnet_testloader1 = train(resnetclassifier, combined_csv_file, multi_csv_file, image_folder, batch_size=150, num_epochs=10, learning_rate=1e-3, decay_rate=0.9, threshold=0.5)"
   ],
   "metadata": {
    "collapsed": false,
    "is_executing": true,
    "ExecuteTime": {
     "start_time": "2023-07-27T10:56:41.843811500Z"
    }
   }
  },
  {
   "cell_type": "code",
   "execution_count": 142,
   "outputs": [
    {
     "data": {
      "text/plain": "<Figure size 432x288 with 1 Axes>",
      "image/png": "[encoded data removed]"
     },
     "metadata": {
      "needs_background": "light"
     },
     "output_type": "display_data"
    }
   ],
   "source": [
    "path_to_resnet = get_model_name(\"resnetclassifier\",batch_size=150,learning_rate=1e-3, decay_rate=0.9, threshold=0.5, epoch=9)\n",
    "plot_training_curve(path_to_resnet)"
   ],
   "metadata": {
    "collapsed": false,
    "ExecuteTime": {
     "end_time": "2023-07-29T20:39:46.867150600Z",
     "start_time": "2023-07-29T20:39:46.721889400Z"
    }
   }
  },
  {
   "cell_type": "code",
   "execution_count": 11,
   "outputs": [
    {
     "name": "stdout",
     "output_type": "stream",
     "text": [
      "CUDA is available! Training on GPU...\n",
      "Length of train_set: 4800\n",
      "Length of val_set: 600\n",
      "Length of test_set: 600\n",
      "Length of train_loader: 32\n",
      "Length of val_loader: 4\n",
      "Length of test_loader: 4\n",
      "The final test accuracy of our model is:  97.96591533809786 %\n"
     ]
    }
   ],
   "source": [
    "final_model = DenseNetMultiLabel(num_classes=20)\n",
    "\n",
    "# Load the state_dict of the model\n",
    "model_path = get_model_name(\"densenetclassifier\", batch_size=150, learning_rate=1e-3, decay_rate=0.9, threshold=0.5, epoch=9)\n",
    "state = torch.load(model_path, map_location=torch.device('cuda'))\n",
    "\n",
    "# Remove the 'module' prefix from the state_dict keys\n",
    "state = {k.replace('module.', ''): v for k, v in state.items()}\n",
    "\n",
    "final_model.load_state_dict(state)\n",
    "\n",
    "use_cuda = True\n",
    "\n",
    "if use_cuda and torch.cuda.is_available():\n",
    "    device = torch.device(\"cuda\")\n",
    "    final_model.cuda()\n",
    "    print('CUDA is available! Training on GPU...')\n",
    "else:\n",
    "    device = torch.device(\"cpu\")\n",
    "    print('CUDA is not available. Training on CPU...')\n",
    "\n",
    "final_model.to(device)  # Move the model to the desired device\n",
    "final_model = nn.DataParallel(final_model)\n",
    "\n",
    "train_loader, val_loader, test_loader = get_data_loader(combined_csv_file=combined_csv_file, multi_csv_file=multi_csv_file, image_folder=image_folder, batch_size=150, image_size=(224,224), normalize=True)\n",
    "test_accuracy = get_f1_score(final_model, test_loader, threshold=0.5)\n",
    "print(\"The final test accuracy of our model is:\", test_accuracy*100,\"%\")"
   ],
   "metadata": {
    "collapsed": false,
    "ExecuteTime": {
     "end_time": "2023-07-31T23:13:54.259482700Z",
     "start_time": "2023-07-31T23:12:19.226129200Z"
    }
   }
  }
 ],
 "metadata": {
  "kernelspec": {
   "display_name": "Python 3",
   "language": "python",
   "name": "python3"
  },
  "language_info": {
   "codemirror_mode": {
    "name": "ipython",
    "version": 2
   },
   "file_extension": ".py",
   "mimetype": "text/x-python",
   "name": "python",
   "nbconvert_exporter": "python",
   "pygments_lexer": "ipython2",
   "version": "2.7.6"
  }
 },
 "nbformat": 4,
 "nbformat_minor": 0
}
